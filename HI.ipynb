{
  "nbformat": 4,
  "nbformat_minor": 0,
  "metadata": {
    "colab": {
      "provenance": [],
      "authorship_tag": "ABX9TyNGW/bgSvIWulDw85T/OwT3",
      "include_colab_link": true
    },
    "kernelspec": {
      "name": "python3",
      "display_name": "Python 3"
    },
    "language_info": {
      "name": "python"
    }
  },
  "cells": [
    {
      "cell_type": "markdown",
      "metadata": {
        "id": "view-in-github",
        "colab_type": "text"
      },
      "source": [
        "<a href=\"https://colab.research.google.com/github/heidiray/Heat_Index_Calc/blob/main/HI.ipynb\" target=\"_parent\"><img src=\"https://colab.research.google.com/assets/colab-badge.svg\" alt=\"Open In Colab\"/></a>"
      ]
    },
    {
      "cell_type": "code",
      "execution_count": null,
      "metadata": {
        "id": "Zk1x1qd6vP1T"
      },
      "outputs": [],
      "source": [
        "T  = float(input('Enter the temperature, degrees F: '))\n",
        "RH = float(input('Enter relative humidity, percent: '))\n",
        "HI = 0.5 * (T + 61.0 + ((T-68.0)*1.2) + (RH*0.094))\n",
        "print(\"The heat index is\", round(HI))"
      ]
    },
    {
      "cell_type": "code",
      "source": [
        "import math\n",
        "\n",
        "T = float(input('Enter the temperature, degrees F: '))\n",
        "RH = float(input('Enter relative humidity, percent: '))\n",
        "\n",
        "HI = 0.5 * (T + 61.0 + ((T - 68.0) * 1.2) + (RH * 0.094))\n",
        "\n",
        "# Step 1: Compute the average of T and HI\n",
        "average_T_HI = (T + HI) / 2\n",
        "\n",
        "# Step 2: If the average is less than 80, set HI_final to that average\n",
        "if average_T_HI < 80:\n",
        "    HI_final = average_T_HI\n",
        "else:\n",
        "    # Step 4: Compute the alternate HI using the full regression equation\n",
        "    alt_HI = 0.5 * (T + 61.0 + ((T - 68.0) * 1.2) + (RH * 0.094))\n",
        "\n",
        "    # Step 5: Compute the appropriate adjustments\n",
        "    if RH < 13 and 80 <= T <= 112:\n",
        "        adjustment = ((13 - RH) / 4) * math.sqrt((17 - abs(T - 95.0)) / 17)\n",
        "    elif RH > 85 and 80 <= T <= 87:\n",
        "        adjustment = ((RH - 85) / 10) * ((87 - T) / 5)\n",
        "    else:\n",
        "        adjustment = 0.5 * (alt_HI - 58.0)\n",
        "\n",
        "    # Step 6: Add adjustment to the alternate HI\n",
        "    HI_final = alt_HI + adjustment\n",
        "\n",
        "# Step 7: Print the value of HI_final, rounded to the nearest integer\n",
        "print(\"The adjusted heat index is\", round(HI_final))\n"
      ],
      "metadata": {
        "colab": {
          "base_uri": "https://localhost:8080/"
        },
        "id": "6UO1_D7AwhoG",
        "outputId": "3c218c9c-cfa4-4518-c4c9-c21c669531f4"
      },
      "execution_count": null,
      "outputs": [
        {
          "output_type": "stream",
          "name": "stdout",
          "text": [
            "Enter the temperature, degrees F: 95\n",
            "Enter relative humidity, percent: 10\n",
            "The adjusted heat index is 95\n"
          ]
        }
      ]
    },
    {
      "cell_type": "code",
      "source": [
        "import math\n",
        "\n",
        "def steadman(T, RH):\n",
        "    HI = 0.5 * (T + 61.0 + ((T - 68.0) * 1.2) + (RH * 0.094))\n",
        "\n",
        "    # Step 1: Compute the average of T and HI\n",
        "    average_T_HI = (T + HI) / 2\n",
        "\n",
        "    # Step 2: If the average is less than 80, set HI_final to that average\n",
        "    if average_T_HI < 80:\n",
        "        HI_final = average_T_HI\n",
        "    else:\n",
        "        # Step 4: Compute the alternate HI using the full regression equation\n",
        "        alt_HI = 0.5 * (T + 61.0 + ((T - 68.0) * 1.2) + (RH * 0.094))\n",
        "\n",
        "        # Step 5: Compute the appropriate adjustments\n",
        "        if RH < 13 and 80 <= T <= 112:\n",
        "            adjustment = ((13 - RH) / 4) * math.sqrt((17 - abs(T - 95.0)) / 17)\n",
        "        elif RH > 85 and 80 <= T <= 87:\n",
        "            adjustment = ((RH - 85) / 10) * ((87 - T) / 5)\n",
        "        else:\n",
        "            adjustment = 0.5 * (alt_HI - 58.0)\n",
        "\n",
        "        # Step 6: Add adjustment to the alternate HI\n",
        "        HI_final = alt_HI + adjustment\n",
        "\n",
        "    # Step 7: Return the value of HI_final, rounded to the nearest integer\n",
        "    return round(HI_final)\n",
        "\n",
        "def run_program():\n",
        "    T = float(input('Enter the temperature, degrees F: '))\n",
        "    RH = float(input('Enter relative humidity, percent: '))\n",
        "\n",
        "    adjusted_heat_index = steadman(T, RH)\n",
        "    print(\"The adjusted heat index is\", adjusted_heat_index)\n",
        "\n",
        "# Call the run_program function to execute the program\n",
        "if __name__ == \"__main__\":\n",
        "    run_program()\n"
      ],
      "metadata": {
        "colab": {
          "base_uri": "https://localhost:8080/",
          "height": 321
        },
        "id": "h0kDitVTTfjP",
        "outputId": "d0da501b-54e1-4ea8-cd16-77791d2b0ea9"
      },
      "execution_count": null,
      "outputs": [
        {
          "output_type": "error",
          "ename": "KeyboardInterrupt",
          "evalue": "Interrupted by user",
          "traceback": [
            "\u001b[0;31m---------------------------------------------------------------------------\u001b[0m",
            "\u001b[0;31mKeyboardInterrupt\u001b[0m                         Traceback (most recent call last)",
            "\u001b[0;32m<ipython-input-6-69bbcb1ad6d1>\u001b[0m in \u001b[0;36m<cell line: 38>\u001b[0;34m()\u001b[0m\n\u001b[1;32m     37\u001b[0m \u001b[0;31m# Call the run_program function to execute the program\u001b[0m\u001b[0;34m\u001b[0m\u001b[0;34m\u001b[0m\u001b[0m\n\u001b[1;32m     38\u001b[0m \u001b[0;32mif\u001b[0m \u001b[0m__name__\u001b[0m \u001b[0;34m==\u001b[0m \u001b[0;34m\"__main__\"\u001b[0m\u001b[0;34m:\u001b[0m\u001b[0;34m\u001b[0m\u001b[0;34m\u001b[0m\u001b[0m\n\u001b[0;32m---> 39\u001b[0;31m     \u001b[0mrun_program\u001b[0m\u001b[0;34m(\u001b[0m\u001b[0;34m)\u001b[0m\u001b[0;34m\u001b[0m\u001b[0;34m\u001b[0m\u001b[0m\n\u001b[0m",
            "\u001b[0;32m<ipython-input-6-69bbcb1ad6d1>\u001b[0m in \u001b[0;36mrun_program\u001b[0;34m()\u001b[0m\n\u001b[1;32m     29\u001b[0m \u001b[0;34m\u001b[0m\u001b[0m\n\u001b[1;32m     30\u001b[0m \u001b[0;32mdef\u001b[0m \u001b[0mrun_program\u001b[0m\u001b[0;34m(\u001b[0m\u001b[0;34m)\u001b[0m\u001b[0;34m:\u001b[0m\u001b[0;34m\u001b[0m\u001b[0;34m\u001b[0m\u001b[0m\n\u001b[0;32m---> 31\u001b[0;31m     \u001b[0mT\u001b[0m \u001b[0;34m=\u001b[0m \u001b[0mfloat\u001b[0m\u001b[0;34m(\u001b[0m\u001b[0minput\u001b[0m\u001b[0;34m(\u001b[0m\u001b[0;34m'Enter the temperature, degrees F: '\u001b[0m\u001b[0;34m)\u001b[0m\u001b[0;34m)\u001b[0m\u001b[0;34m\u001b[0m\u001b[0;34m\u001b[0m\u001b[0m\n\u001b[0m\u001b[1;32m     32\u001b[0m     \u001b[0mRH\u001b[0m \u001b[0;34m=\u001b[0m \u001b[0mfloat\u001b[0m\u001b[0;34m(\u001b[0m\u001b[0minput\u001b[0m\u001b[0;34m(\u001b[0m\u001b[0;34m'Enter relative humidity, percent: '\u001b[0m\u001b[0;34m)\u001b[0m\u001b[0;34m)\u001b[0m\u001b[0;34m\u001b[0m\u001b[0;34m\u001b[0m\u001b[0m\n\u001b[1;32m     33\u001b[0m \u001b[0;34m\u001b[0m\u001b[0m\n",
            "\u001b[0;32m/usr/local/lib/python3.10/dist-packages/ipykernel/kernelbase.py\u001b[0m in \u001b[0;36mraw_input\u001b[0;34m(self, prompt)\u001b[0m\n\u001b[1;32m    849\u001b[0m                 \u001b[0;34m\"raw_input was called, but this frontend does not support input requests.\"\u001b[0m\u001b[0;34m\u001b[0m\u001b[0;34m\u001b[0m\u001b[0m\n\u001b[1;32m    850\u001b[0m             )\n\u001b[0;32m--> 851\u001b[0;31m         return self._input_request(str(prompt),\n\u001b[0m\u001b[1;32m    852\u001b[0m             \u001b[0mself\u001b[0m\u001b[0;34m.\u001b[0m\u001b[0m_parent_ident\u001b[0m\u001b[0;34m,\u001b[0m\u001b[0;34m\u001b[0m\u001b[0;34m\u001b[0m\u001b[0m\n\u001b[1;32m    853\u001b[0m             \u001b[0mself\u001b[0m\u001b[0;34m.\u001b[0m\u001b[0m_parent_header\u001b[0m\u001b[0;34m,\u001b[0m\u001b[0;34m\u001b[0m\u001b[0;34m\u001b[0m\u001b[0m\n",
            "\u001b[0;32m/usr/local/lib/python3.10/dist-packages/ipykernel/kernelbase.py\u001b[0m in \u001b[0;36m_input_request\u001b[0;34m(self, prompt, ident, parent, password)\u001b[0m\n\u001b[1;32m    893\u001b[0m             \u001b[0;32mexcept\u001b[0m \u001b[0mKeyboardInterrupt\u001b[0m\u001b[0;34m:\u001b[0m\u001b[0;34m\u001b[0m\u001b[0;34m\u001b[0m\u001b[0m\n\u001b[1;32m    894\u001b[0m                 \u001b[0;31m# re-raise KeyboardInterrupt, to truncate traceback\u001b[0m\u001b[0;34m\u001b[0m\u001b[0;34m\u001b[0m\u001b[0m\n\u001b[0;32m--> 895\u001b[0;31m                 \u001b[0;32mraise\u001b[0m \u001b[0mKeyboardInterrupt\u001b[0m\u001b[0;34m(\u001b[0m\u001b[0;34m\"Interrupted by user\"\u001b[0m\u001b[0;34m)\u001b[0m \u001b[0;32mfrom\u001b[0m \u001b[0;32mNone\u001b[0m\u001b[0;34m\u001b[0m\u001b[0;34m\u001b[0m\u001b[0m\n\u001b[0m\u001b[1;32m    896\u001b[0m             \u001b[0;32mexcept\u001b[0m \u001b[0mException\u001b[0m \u001b[0;32mas\u001b[0m \u001b[0me\u001b[0m\u001b[0;34m:\u001b[0m\u001b[0;34m\u001b[0m\u001b[0;34m\u001b[0m\u001b[0m\n\u001b[1;32m    897\u001b[0m                 \u001b[0mself\u001b[0m\u001b[0;34m.\u001b[0m\u001b[0mlog\u001b[0m\u001b[0;34m.\u001b[0m\u001b[0mwarning\u001b[0m\u001b[0;34m(\u001b[0m\u001b[0;34m\"Invalid Message:\"\u001b[0m\u001b[0;34m,\u001b[0m \u001b[0mexc_info\u001b[0m\u001b[0;34m=\u001b[0m\u001b[0;32mTrue\u001b[0m\u001b[0;34m)\u001b[0m\u001b[0;34m\u001b[0m\u001b[0;34m\u001b[0m\u001b[0m\n",
            "\u001b[0;31mKeyboardInterrupt\u001b[0m: Interrupted by user"
          ]
        }
      ]
    },
    {
      "cell_type": "markdown",
      "source": [
        "1, 1, 1; 1, 1, 2; 1, 1, 3; 1, 2, 3; and 2, 2, 3"
      ],
      "metadata": {
        "id": "0gImiZa8XckW"
      }
    }
  ]
}